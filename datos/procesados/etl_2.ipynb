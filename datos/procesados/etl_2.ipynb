{
 "cells": [
  {
   "attachments": {},
   "cell_type": "markdown",
   "metadata": {},
   "source": [
    "$$\n",
    "ETL\n",
    "$$"
   ]
  },
  {
   "cell_type": "code",
   "execution_count": null,
   "metadata": {},
   "outputs": [],
   "source": [
    "\n",
    "import pandas as pd\n",
    "import time\n",
    "from bs4 import BeautifulSoup\n",
    "from selenium  import webdriver\n",
    "import requests\n",
    "import io\n"
   ]
  },
  {
   "cell_type": "code",
   "execution_count": 57,
   "metadata": {},
   "outputs": [],
   "source": [
    "class Extraccion_Url:\n",
    "    def __init__(self,url):\n",
    "        \n",
    "        ''' \n",
    "        Este código utiliza Selenium para abrir la página web especificada en la variable url y esperar a que se cargue la tabla dinámica.\n",
    "        Luego, se extrae el código HTML de la página y se usa BeautifulSoup y pandas para extraer la tabla y guardarla en un DataFrame\n",
    "        '''\n",
    "        # Url de Agencia Meteorologia de japon. Información de Terremotos dinamica\n",
    "        self.url = url\n",
    "\n",
    "        # Configura el driver de Selenium (en este caso, se usa Chrome)\n",
    "        options = webdriver.ChromeOptions()\n",
    "        options.add_argument('--headless') # Ejecuta el navegador en modo headless (sin interfaz gráfica)\n",
    "        driver = webdriver.Chrome(options=options)\n",
    "\n",
    "        # Abre la página web con Selenium\n",
    "        driver.get(self.url)\n",
    "\n",
    "        # Espera a que se cargue la tabla dinámica (ajusta el tiempo según sea necesario)\n",
    "        time.sleep(5)\n",
    "\n",
    "        # Extrae el código HTML de la página\n",
    "        html = driver.page_source\n",
    "\n",
    "        # Usa BeautifulSoup y pandas para extraer la tabla\n",
    "        soup = BeautifulSoup(html, 'html.parser')\n",
    "        table = soup.find_all('table')[0]\n",
    "        self.df = pd.read_html(str(table))[0]\n",
    "        \n",
    "        \n",
    "        # Cierra el driver de Selenium\n",
    "        driver.quit()\n",
    "\n",
    "    def informacion_6_datos(self,p):\n",
    "\n",
    "        if p==1: \n",
    "            print('Visualizar Data Frame.')\n",
    "            return self.df.head(5)\n",
    "        elif p==2:\n",
    "            print('Tamaño del Data Frame.')\n",
    "            return self.df.shape\n",
    "        elif p==3:\n",
    "            print('Resumen estadistico del Data Frame.')\n",
    "            return self.df.describe()\n",
    "        elif p==4:\n",
    "            print('Hallar valores nulos en el Data Frame.')\n",
    "            return self.df.isnull().sum()\n",
    "        elif p==5:\n",
    "            print('Informacion sobre el tipo de datos y cantidad de valores no nulos del Data Frame.')\n",
    "            return self.df.info()\n",
    "        elif p==6:\n",
    "            print('Resumen estadistico del Data Frame que excluye los numeros.')\n",
    "            return self.df.describe(exclude='number')\n",
    "\n",
    "    def matriz_correlacion(self,pais,variables):\n",
    "        #grafico para ver la relación entre las variable\n",
    "        # Seleccionar las columnas a incluir en la matriz de correlación\n",
    "        cols = variables\n",
    "\n",
    "        # Crear la matriz de correlación\n",
    "        corr = self.df[cols].corr()\n",
    "\n",
    "        # Crear el gráfico de correlación utilizando la biblioteca Seaborn\n",
    "        sns.set(style=\"white\")\n",
    "        mask = np.triu(np.ones_like(corr, dtype=np.bool_))\n",
    "        fig, ax = plt.subplots(figsize=(10, 8))\n",
    "        cmap = sns.diverging_palette(220, 10, as_cmap=True)\n",
    "        sns.heatmap(corr, mask=mask, cmap=cmap, vmax=.3, center=0,\n",
    "        square=True, linewidths=.5, cbar_kws={\"shrink\": .5})\n",
    "        plt.title('Matriz de correlación de los datos de sismos en '+pais)\n",
    "        return plt.show()"
   ]
  },
  {
   "attachments": {},
   "cell_type": "markdown",
   "metadata": {},
   "source": [
    "$$\n",
    "JAPON\n",
    "$$"
   ]
  },
  {
   "cell_type": "code",
   "execution_count": 46,
   "metadata": {},
   "outputs": [],
   "source": [
    "Japon =  Extraccion_Url('http://ds.iris.edu/ieb/evtable.phtml?caller=IEB&st=1970-01-01&et=2025-01-01&minmag=6&maxmag=10&orderby=time-desc&src=usgs&limit=5000&maxlat=56.000&minlat=22.000&maxlon=159.000&minlon=127.000&sbl=1&pbl=1&caller=self&name=Japan%20Region&zm=3&mt=ter&rgn=Japan%20Region&title=IEB%20export%3A%20786%20earthquakes%20as%20a%20sortable%20table.&stitle=from%201970-01-01%20to%20the%20latest%20available%2C%20with%20magnitudes%20from%206%20to%2010%2C%20all%20depths%2C%20with%20priority%20for%20most%20recent%2C%20limited%20to%205000%2C%20%20showing%20data%20from%20USGS%2C%20')"
   ]
  },
  {
   "cell_type": "code",
   "execution_count": 47,
   "metadata": {},
   "outputs": [
    {
     "name": "stdout",
     "output_type": "stream",
     "text": [
      "Visualizar Data Frame.\n"
     ]
    },
    {
     "data": {
      "text/html": [
       "<div>\n",
       "<style scoped>\n",
       "    .dataframe tbody tr th:only-of-type {\n",
       "        vertical-align: middle;\n",
       "    }\n",
       "\n",
       "    .dataframe tbody tr th {\n",
       "        vertical-align: top;\n",
       "    }\n",
       "\n",
       "    .dataframe thead th {\n",
       "        text-align: right;\n",
       "    }\n",
       "</style>\n",
       "<table border=\"1\" class=\"dataframe\">\n",
       "  <thead>\n",
       "    <tr style=\"text-align: right;\">\n",
       "      <th></th>\n",
       "      <th>Year</th>\n",
       "      <th>Month</th>\n",
       "      <th>Day</th>\n",
       "      <th>Time UTC</th>\n",
       "      <th>Mag</th>\n",
       "      <th>Lat</th>\n",
       "      <th>Lon</th>\n",
       "      <th>Depth km</th>\n",
       "      <th>Region</th>\n",
       "      <th>USGS ID</th>\n",
       "      <th>Timestamp</th>\n",
       "    </tr>\n",
       "  </thead>\n",
       "  <tbody>\n",
       "    <tr>\n",
       "      <th>0</th>\n",
       "      <td>2023</td>\n",
       "      <td>5</td>\n",
       "      <td>5</td>\n",
       "      <td>05:42:04</td>\n",
       "      <td>6.2</td>\n",
       "      <td>37.5402</td>\n",
       "      <td>137.3053</td>\n",
       "      <td>8.7</td>\n",
       "      <td>49 km NE of Anamizu, Japan</td>\n",
       "      <td>us6000k9mb</td>\n",
       "      <td>1683265324</td>\n",
       "    </tr>\n",
       "    <tr>\n",
       "      <th>1</th>\n",
       "      <td>2023</td>\n",
       "      <td>4</td>\n",
       "      <td>3</td>\n",
       "      <td>03:06:57</td>\n",
       "      <td>6.5</td>\n",
       "      <td>52.7227</td>\n",
       "      <td>158.4935</td>\n",
       "      <td>101.0</td>\n",
       "      <td>23 km SSE of Vilyuchinsk, Russia</td>\n",
       "      <td>us6000k1mn</td>\n",
       "      <td>1680491217</td>\n",
       "    </tr>\n",
       "    <tr>\n",
       "      <th>2</th>\n",
       "      <td>2023</td>\n",
       "      <td>3</td>\n",
       "      <td>28</td>\n",
       "      <td>09:18:28</td>\n",
       "      <td>6.0</td>\n",
       "      <td>41.1480</td>\n",
       "      <td>142.8050</td>\n",
       "      <td>34.0</td>\n",
       "      <td>129 km ENE of Misawa, Japan</td>\n",
       "      <td>us6000k09q</td>\n",
       "      <td>1679995108</td>\n",
       "    </tr>\n",
       "    <tr>\n",
       "      <th>3</th>\n",
       "      <td>2023</td>\n",
       "      <td>2</td>\n",
       "      <td>25</td>\n",
       "      <td>13:27:43</td>\n",
       "      <td>6.0</td>\n",
       "      <td>42.8417</td>\n",
       "      <td>144.9973</td>\n",
       "      <td>51.8</td>\n",
       "      <td>52 km ESE of Kushiro, Japan</td>\n",
       "      <td>us6000jrjl</td>\n",
       "      <td>1677331663</td>\n",
       "    </tr>\n",
       "    <tr>\n",
       "      <th>4</th>\n",
       "      <td>2023</td>\n",
       "      <td>1</td>\n",
       "      <td>16</td>\n",
       "      <td>04:49:51</td>\n",
       "      <td>6.3</td>\n",
       "      <td>28.9804</td>\n",
       "      <td>139.3452</td>\n",
       "      <td>405.0</td>\n",
       "      <td>Bonin Islands, Japan region</td>\n",
       "      <td>us7000j4mj</td>\n",
       "      <td>1673844591</td>\n",
       "    </tr>\n",
       "  </tbody>\n",
       "</table>\n",
       "</div>"
      ],
      "text/plain": [
       "   Year  Month  Day  Time UTC  Mag      Lat       Lon  Depth km   \n",
       "0  2023      5    5  05:42:04  6.2  37.5402  137.3053       8.7  \\\n",
       "1  2023      4    3  03:06:57  6.5  52.7227  158.4935     101.0   \n",
       "2  2023      3   28  09:18:28  6.0  41.1480  142.8050      34.0   \n",
       "3  2023      2   25  13:27:43  6.0  42.8417  144.9973      51.8   \n",
       "4  2023      1   16  04:49:51  6.3  28.9804  139.3452     405.0   \n",
       "\n",
       "                             Region     USGS ID   Timestamp  \n",
       "0        49 km NE of Anamizu, Japan  us6000k9mb  1683265324  \n",
       "1  23 km SSE of Vilyuchinsk, Russia  us6000k1mn  1680491217  \n",
       "2       129 km ENE of Misawa, Japan  us6000k09q  1679995108  \n",
       "3       52 km ESE of Kushiro, Japan  us6000jrjl  1677331663  \n",
       "4       Bonin Islands, Japan region  us7000j4mj  1673844591  "
      ]
     },
     "execution_count": 47,
     "metadata": {},
     "output_type": "execute_result"
    }
   ],
   "source": [
    "Japon.informacion_6_datos(1)"
   ]
  },
  {
   "cell_type": "code",
   "execution_count": 48,
   "metadata": {},
   "outputs": [
    {
     "name": "stdout",
     "output_type": "stream",
     "text": [
      "Tamaño del Data Frame.\n"
     ]
    },
    {
     "data": {
      "text/plain": [
       "(786, 11)"
      ]
     },
     "execution_count": 48,
     "metadata": {},
     "output_type": "execute_result"
    }
   ],
   "source": [
    "Japon.informacion_6_datos(2)"
   ]
  },
  {
   "cell_type": "code",
   "execution_count": 49,
   "metadata": {},
   "outputs": [
    {
     "name": "stdout",
     "output_type": "stream",
     "text": [
      "Resumen estadistico del Data Frame.\n"
     ]
    },
    {
     "data": {
      "text/html": [
       "<div>\n",
       "<style scoped>\n",
       "    .dataframe tbody tr th:only-of-type {\n",
       "        vertical-align: middle;\n",
       "    }\n",
       "\n",
       "    .dataframe tbody tr th {\n",
       "        vertical-align: top;\n",
       "    }\n",
       "\n",
       "    .dataframe thead th {\n",
       "        text-align: right;\n",
       "    }\n",
       "</style>\n",
       "<table border=\"1\" class=\"dataframe\">\n",
       "  <thead>\n",
       "    <tr style=\"text-align: right;\">\n",
       "      <th></th>\n",
       "      <th>Year</th>\n",
       "      <th>Month</th>\n",
       "      <th>Day</th>\n",
       "      <th>Mag</th>\n",
       "      <th>Lat</th>\n",
       "      <th>Lon</th>\n",
       "      <th>Depth km</th>\n",
       "      <th>Timestamp</th>\n",
       "    </tr>\n",
       "  </thead>\n",
       "  <tbody>\n",
       "    <tr>\n",
       "      <th>count</th>\n",
       "      <td>786.000000</td>\n",
       "      <td>786.000000</td>\n",
       "      <td>786.000000</td>\n",
       "      <td>786.000000</td>\n",
       "      <td>786.000000</td>\n",
       "      <td>786.000000</td>\n",
       "      <td>786.000000</td>\n",
       "      <td>7.860000e+02</td>\n",
       "    </tr>\n",
       "    <tr>\n",
       "      <th>mean</th>\n",
       "      <td>1997.001272</td>\n",
       "      <td>6.468193</td>\n",
       "      <td>15.451654</td>\n",
       "      <td>6.378372</td>\n",
       "      <td>39.620419</td>\n",
       "      <td>143.594432</td>\n",
       "      <td>99.079135</td>\n",
       "      <td>8.676861e+08</td>\n",
       "    </tr>\n",
       "    <tr>\n",
       "      <th>std</th>\n",
       "      <td>14.691087</td>\n",
       "      <td>3.470660</td>\n",
       "      <td>8.369086</td>\n",
       "      <td>0.433578</td>\n",
       "      <td>6.790178</td>\n",
       "      <td>6.864316</td>\n",
       "      <td>154.593090</td>\n",
       "      <td>4.633572e+08</td>\n",
       "    </tr>\n",
       "    <tr>\n",
       "      <th>min</th>\n",
       "      <td>1970.000000</td>\n",
       "      <td>1.000000</td>\n",
       "      <td>1.000000</td>\n",
       "      <td>6.000000</td>\n",
       "      <td>22.013000</td>\n",
       "      <td>127.367400</td>\n",
       "      <td>0.000000</td>\n",
       "      <td>1.704785e+06</td>\n",
       "    </tr>\n",
       "    <tr>\n",
       "      <th>25%</th>\n",
       "      <td>1985.250000</td>\n",
       "      <td>3.000000</td>\n",
       "      <td>9.000000</td>\n",
       "      <td>6.100000</td>\n",
       "      <td>35.384975</td>\n",
       "      <td>140.461000</td>\n",
       "      <td>21.025000</td>\n",
       "      <td>5.022043e+08</td>\n",
       "    </tr>\n",
       "    <tr>\n",
       "      <th>50%</th>\n",
       "      <td>1997.000000</td>\n",
       "      <td>6.000000</td>\n",
       "      <td>15.000000</td>\n",
       "      <td>6.200000</td>\n",
       "      <td>39.823700</td>\n",
       "      <td>142.705500</td>\n",
       "      <td>34.500000</td>\n",
       "      <td>8.661992e+08</td>\n",
       "    </tr>\n",
       "    <tr>\n",
       "      <th>75%</th>\n",
       "      <td>2011.000000</td>\n",
       "      <td>10.000000</td>\n",
       "      <td>22.000000</td>\n",
       "      <td>6.500000</td>\n",
       "      <td>44.438850</td>\n",
       "      <td>148.057000</td>\n",
       "      <td>61.075000</td>\n",
       "      <td>1.299824e+09</td>\n",
       "    </tr>\n",
       "    <tr>\n",
       "      <th>max</th>\n",
       "      <td>2023.000000</td>\n",
       "      <td>12.000000</td>\n",
       "      <td>31.000000</td>\n",
       "      <td>9.100000</td>\n",
       "      <td>55.970400</td>\n",
       "      <td>158.659000</td>\n",
       "      <td>664.000000</td>\n",
       "      <td>1.683265e+09</td>\n",
       "    </tr>\n",
       "  </tbody>\n",
       "</table>\n",
       "</div>"
      ],
      "text/plain": [
       "              Year       Month         Day         Mag         Lat   \n",
       "count   786.000000  786.000000  786.000000  786.000000  786.000000  \\\n",
       "mean   1997.001272    6.468193   15.451654    6.378372   39.620419   \n",
       "std      14.691087    3.470660    8.369086    0.433578    6.790178   \n",
       "min    1970.000000    1.000000    1.000000    6.000000   22.013000   \n",
       "25%    1985.250000    3.000000    9.000000    6.100000   35.384975   \n",
       "50%    1997.000000    6.000000   15.000000    6.200000   39.823700   \n",
       "75%    2011.000000   10.000000   22.000000    6.500000   44.438850   \n",
       "max    2023.000000   12.000000   31.000000    9.100000   55.970400   \n",
       "\n",
       "              Lon    Depth km     Timestamp  \n",
       "count  786.000000  786.000000  7.860000e+02  \n",
       "mean   143.594432   99.079135  8.676861e+08  \n",
       "std      6.864316  154.593090  4.633572e+08  \n",
       "min    127.367400    0.000000  1.704785e+06  \n",
       "25%    140.461000   21.025000  5.022043e+08  \n",
       "50%    142.705500   34.500000  8.661992e+08  \n",
       "75%    148.057000   61.075000  1.299824e+09  \n",
       "max    158.659000  664.000000  1.683265e+09  "
      ]
     },
     "execution_count": 49,
     "metadata": {},
     "output_type": "execute_result"
    }
   ],
   "source": [
    "Japon.informacion_6_datos(3)"
   ]
  },
  {
   "cell_type": "code",
   "execution_count": 50,
   "metadata": {},
   "outputs": [
    {
     "name": "stdout",
     "output_type": "stream",
     "text": [
      "Hallar valores nulos en el Data Frame.\n"
     ]
    },
    {
     "data": {
      "text/plain": [
       "Year         0\n",
       "Month        0\n",
       "Day          0\n",
       "Time UTC     0\n",
       "Mag          0\n",
       "Lat          0\n",
       "Lon          0\n",
       "Depth km     0\n",
       "Region       0\n",
       "USGS ID      0\n",
       "Timestamp    0\n",
       "dtype: int64"
      ]
     },
     "execution_count": 50,
     "metadata": {},
     "output_type": "execute_result"
    }
   ],
   "source": [
    "Japon.informacion_6_datos(4)"
   ]
  },
  {
   "cell_type": "code",
   "execution_count": 42,
   "metadata": {},
   "outputs": [
    {
     "name": "stdout",
     "output_type": "stream",
     "text": [
      "Informacion sobre el tipo de datos y cantidad de valores no nulos del Data Frame.\n",
      "<class 'pandas.core.frame.DataFrame'>\n",
      "RangeIndex: 786 entries, 0 to 785\n",
      "Data columns (total 11 columns):\n",
      " #   Column     Non-Null Count  Dtype  \n",
      "---  ------     --------------  -----  \n",
      " 0   Year       786 non-null    int64  \n",
      " 1   Month      786 non-null    int64  \n",
      " 2   Day        786 non-null    int64  \n",
      " 3   Time UTC   786 non-null    object \n",
      " 4   Mag        786 non-null    float64\n",
      " 5   Lat        786 non-null    float64\n",
      " 6   Lon        786 non-null    float64\n",
      " 7   Depth km   786 non-null    float64\n",
      " 8   Region     786 non-null    object \n",
      " 9   USGS ID    786 non-null    object \n",
      " 10  Timestamp  786 non-null    int64  \n",
      "dtypes: float64(4), int64(4), object(3)\n",
      "memory usage: 67.7+ KB\n"
     ]
    }
   ],
   "source": [
    "Japon.informacion_6_datos(5)"
   ]
  },
  {
   "cell_type": "code",
   "execution_count": 43,
   "metadata": {},
   "outputs": [
    {
     "name": "stdout",
     "output_type": "stream",
     "text": [
      "Resumen estadistico del Data Frame que excluye los numeros.\n"
     ]
    },
    {
     "data": {
      "text/html": [
       "<div>\n",
       "<style scoped>\n",
       "    .dataframe tbody tr th:only-of-type {\n",
       "        vertical-align: middle;\n",
       "    }\n",
       "\n",
       "    .dataframe tbody tr th {\n",
       "        vertical-align: top;\n",
       "    }\n",
       "\n",
       "    .dataframe thead th {\n",
       "        text-align: right;\n",
       "    }\n",
       "</style>\n",
       "<table border=\"1\" class=\"dataframe\">\n",
       "  <thead>\n",
       "    <tr style=\"text-align: right;\">\n",
       "      <th></th>\n",
       "      <th>Time UTC</th>\n",
       "      <th>Region</th>\n",
       "      <th>USGS ID</th>\n",
       "    </tr>\n",
       "  </thead>\n",
       "  <tbody>\n",
       "    <tr>\n",
       "      <th>count</th>\n",
       "      <td>786</td>\n",
       "      <td>786</td>\n",
       "      <td>786</td>\n",
       "    </tr>\n",
       "    <tr>\n",
       "      <th>unique</th>\n",
       "      <td>782</td>\n",
       "      <td>128</td>\n",
       "      <td>786</td>\n",
       "    </tr>\n",
       "    <tr>\n",
       "      <th>top</th>\n",
       "      <td>13:37:03</td>\n",
       "      <td>Kuril Islands</td>\n",
       "      <td>us6000k9mb</td>\n",
       "    </tr>\n",
       "    <tr>\n",
       "      <th>freq</th>\n",
       "      <td>2</td>\n",
       "      <td>162</td>\n",
       "      <td>1</td>\n",
       "    </tr>\n",
       "  </tbody>\n",
       "</table>\n",
       "</div>"
      ],
      "text/plain": [
       "        Time UTC         Region     USGS ID\n",
       "count        786            786         786\n",
       "unique       782            128         786\n",
       "top     13:37:03  Kuril Islands  us6000k9mb\n",
       "freq           2            162           1"
      ]
     },
     "execution_count": 43,
     "metadata": {},
     "output_type": "execute_result"
    }
   ],
   "source": [
    "Japon.informacion_6_datos(6)"
   ]
  },
  {
   "attachments": {},
   "cell_type": "markdown",
   "metadata": {},
   "source": [
    "$$\n",
    "CHILE\n",
    "$$"
   ]
  },
  {
   "cell_type": "code",
   "execution_count": 51,
   "metadata": {},
   "outputs": [],
   "source": [
    "Chile = Extraccion_Url('http://www.csn.uchile.cl/sismologia/grandes-terremotos-en-chile/')"
   ]
  },
  {
   "cell_type": "code",
   "execution_count": 4,
   "metadata": {},
   "outputs": [
    {
     "name": "stdout",
     "output_type": "stream",
     "text": [
      "Visualizar Data Frame.\n"
     ]
    },
    {
     "data": {
      "text/html": [
       "<div>\n",
       "<style scoped>\n",
       "    .dataframe tbody tr th:only-of-type {\n",
       "        vertical-align: middle;\n",
       "    }\n",
       "\n",
       "    .dataframe tbody tr th {\n",
       "        vertical-align: top;\n",
       "    }\n",
       "\n",
       "    .dataframe thead th {\n",
       "        text-align: right;\n",
       "    }\n",
       "</style>\n",
       "<table border=\"1\" class=\"dataframe\">\n",
       "  <thead>\n",
       "    <tr style=\"text-align: right;\">\n",
       "      <th></th>\n",
       "      <th>Fecha local</th>\n",
       "      <th>Hora local</th>\n",
       "      <th>Latitud</th>\n",
       "      <th>Longitud</th>\n",
       "      <th>Magnitud Ms</th>\n",
       "      <th>Magnitud Mw</th>\n",
       "      <th>Profundidad [km]</th>\n",
       "      <th>Efecto</th>\n",
       "    </tr>\n",
       "  </thead>\n",
       "  <tbody>\n",
       "    <tr>\n",
       "      <th>0</th>\n",
       "      <td>08/02/1570</td>\n",
       "      <td>9:00</td>\n",
       "      <td>-36.800</td>\n",
       "      <td>-73.00</td>\n",
       "      <td>8.3</td>\n",
       "      <td>-</td>\n",
       "      <td>-</td>\n",
       "      <td>TD</td>\n",
       "    </tr>\n",
       "    <tr>\n",
       "      <th>1</th>\n",
       "      <td>17/03/1575</td>\n",
       "      <td>10:00</td>\n",
       "      <td>-33.400</td>\n",
       "      <td>-70.60</td>\n",
       "      <td>7.3</td>\n",
       "      <td>-</td>\n",
       "      <td>-</td>\n",
       "      <td>-</td>\n",
       "    </tr>\n",
       "    <tr>\n",
       "      <th>2</th>\n",
       "      <td>16/12/1575</td>\n",
       "      <td>14:30</td>\n",
       "      <td>-39.800</td>\n",
       "      <td>-73.20</td>\n",
       "      <td>8.5</td>\n",
       "      <td>-</td>\n",
       "      <td>-</td>\n",
       "      <td>TD</td>\n",
       "    </tr>\n",
       "    <tr>\n",
       "      <th>3</th>\n",
       "      <td>24/11/1604</td>\n",
       "      <td>12:30</td>\n",
       "      <td>-18.500</td>\n",
       "      <td>-70.40</td>\n",
       "      <td>8.5</td>\n",
       "      <td>-</td>\n",
       "      <td>30</td>\n",
       "      <td>TD</td>\n",
       "    </tr>\n",
       "    <tr>\n",
       "      <th>4</th>\n",
       "      <td>16/09/1615</td>\n",
       "      <td>23:30</td>\n",
       "      <td>-18.500</td>\n",
       "      <td>-70.35</td>\n",
       "      <td>8.8</td>\n",
       "      <td>-</td>\n",
       "      <td>-</td>\n",
       "      <td>TM</td>\n",
       "    </tr>\n",
       "  </tbody>\n",
       "</table>\n",
       "</div>"
      ],
      "text/plain": [
       "  Fecha local Hora local  Latitud  Longitud Magnitud Ms Magnitud Mw   \n",
       "0  08/02/1570       9:00  -36.800    -73.00         8.3           -  \\\n",
       "1  17/03/1575      10:00  -33.400    -70.60         7.3           -   \n",
       "2  16/12/1575      14:30  -39.800    -73.20         8.5           -   \n",
       "3  24/11/1604      12:30  -18.500    -70.40         8.5           -   \n",
       "4  16/09/1615      23:30  -18.500    -70.35         8.8           -   \n",
       "\n",
       "  Profundidad [km] Efecto  \n",
       "0                -     TD  \n",
       "1                -      -  \n",
       "2                -     TD  \n",
       "3               30     TD  \n",
       "4                -     TM  "
      ]
     },
     "execution_count": 4,
     "metadata": {},
     "output_type": "execute_result"
    }
   ],
   "source": [
    "Chile.informacion_6_datos(1)"
   ]
  },
  {
   "cell_type": "code",
   "execution_count": 5,
   "metadata": {},
   "outputs": [
    {
     "name": "stdout",
     "output_type": "stream",
     "text": [
      "Tamaño del Data Frame.\n"
     ]
    },
    {
     "data": {
      "text/plain": [
       "(113, 8)"
      ]
     },
     "execution_count": 5,
     "metadata": {},
     "output_type": "execute_result"
    }
   ],
   "source": [
    "Chile.informacion_6_datos(2)"
   ]
  },
  {
   "cell_type": "code",
   "execution_count": 6,
   "metadata": {},
   "outputs": [
    {
     "name": "stdout",
     "output_type": "stream",
     "text": [
      "Resumen estadistico del Data Frame.\n"
     ]
    },
    {
     "data": {
      "text/html": [
       "<div>\n",
       "<style scoped>\n",
       "    .dataframe tbody tr th:only-of-type {\n",
       "        vertical-align: middle;\n",
       "    }\n",
       "\n",
       "    .dataframe tbody tr th {\n",
       "        vertical-align: top;\n",
       "    }\n",
       "\n",
       "    .dataframe thead th {\n",
       "        text-align: right;\n",
       "    }\n",
       "</style>\n",
       "<table border=\"1\" class=\"dataframe\">\n",
       "  <thead>\n",
       "    <tr style=\"text-align: right;\">\n",
       "      <th></th>\n",
       "      <th>Longitud</th>\n",
       "    </tr>\n",
       "  </thead>\n",
       "  <tbody>\n",
       "    <tr>\n",
       "      <th>count</th>\n",
       "      <td>113.000000</td>\n",
       "    </tr>\n",
       "    <tr>\n",
       "      <th>mean</th>\n",
       "      <td>-1952.617584</td>\n",
       "    </tr>\n",
       "    <tr>\n",
       "      <th>std</th>\n",
       "      <td>11443.207220</td>\n",
       "    </tr>\n",
       "    <tr>\n",
       "      <th>min</th>\n",
       "      <td>-72000.000000</td>\n",
       "    </tr>\n",
       "    <tr>\n",
       "      <th>25%</th>\n",
       "      <td>-73.000000</td>\n",
       "    </tr>\n",
       "    <tr>\n",
       "      <th>50%</th>\n",
       "      <td>-71.180000</td>\n",
       "    </tr>\n",
       "    <tr>\n",
       "      <th>75%</th>\n",
       "      <td>-70.350000</td>\n",
       "    </tr>\n",
       "    <tr>\n",
       "      <th>max</th>\n",
       "      <td>-67.500000</td>\n",
       "    </tr>\n",
       "  </tbody>\n",
       "</table>\n",
       "</div>"
      ],
      "text/plain": [
       "           Longitud\n",
       "count    113.000000\n",
       "mean   -1952.617584\n",
       "std    11443.207220\n",
       "min   -72000.000000\n",
       "25%      -73.000000\n",
       "50%      -71.180000\n",
       "75%      -70.350000\n",
       "max      -67.500000"
      ]
     },
     "execution_count": 6,
     "metadata": {},
     "output_type": "execute_result"
    }
   ],
   "source": [
    "Chile.informacion_6_datos(3)"
   ]
  },
  {
   "cell_type": "code",
   "execution_count": 7,
   "metadata": {},
   "outputs": [
    {
     "name": "stdout",
     "output_type": "stream",
     "text": [
      "Hallar valores nulos en el Data Frame.\n"
     ]
    },
    {
     "data": {
      "text/plain": [
       "Fecha local         0\n",
       "Hora local          0\n",
       "Latitud             0\n",
       "Longitud            0\n",
       "Magnitud Ms         0\n",
       "Magnitud Mw         0\n",
       "Profundidad [km]    0\n",
       "Efecto              0\n",
       "dtype: int64"
      ]
     },
     "execution_count": 7,
     "metadata": {},
     "output_type": "execute_result"
    }
   ],
   "source": [
    "Chile.informacion_6_datos(4)"
   ]
  },
  {
   "cell_type": "code",
   "execution_count": 8,
   "metadata": {},
   "outputs": [
    {
     "name": "stdout",
     "output_type": "stream",
     "text": [
      "Informacion sobre el tipo de datos y cantidad de valores no nulos del Data Frame.\n",
      "<class 'pandas.core.frame.DataFrame'>\n",
      "RangeIndex: 113 entries, 0 to 112\n",
      "Data columns (total 8 columns):\n",
      " #   Column            Non-Null Count  Dtype  \n",
      "---  ------            --------------  -----  \n",
      " 0   Fecha local       113 non-null    object \n",
      " 1   Hora local        113 non-null    object \n",
      " 2   Latitud           113 non-null    object \n",
      " 3   Longitud          113 non-null    float64\n",
      " 4   Magnitud Ms       113 non-null    object \n",
      " 5   Magnitud Mw       113 non-null    object \n",
      " 6   Profundidad [km]  113 non-null    object \n",
      " 7   Efecto            113 non-null    object \n",
      "dtypes: float64(1), object(7)\n",
      "memory usage: 7.2+ KB\n"
     ]
    }
   ],
   "source": [
    "Chile.informacion_6_datos(5)"
   ]
  },
  {
   "cell_type": "code",
   "execution_count": 9,
   "metadata": {},
   "outputs": [
    {
     "name": "stdout",
     "output_type": "stream",
     "text": [
      "Resumen estadistico del Data Frame que excluye los numeros.\n"
     ]
    },
    {
     "data": {
      "text/html": [
       "<div>\n",
       "<style scoped>\n",
       "    .dataframe tbody tr th:only-of-type {\n",
       "        vertical-align: middle;\n",
       "    }\n",
       "\n",
       "    .dataframe tbody tr th {\n",
       "        vertical-align: top;\n",
       "    }\n",
       "\n",
       "    .dataframe thead th {\n",
       "        text-align: right;\n",
       "    }\n",
       "</style>\n",
       "<table border=\"1\" class=\"dataframe\">\n",
       "  <thead>\n",
       "    <tr style=\"text-align: right;\">\n",
       "      <th></th>\n",
       "      <th>Fecha local</th>\n",
       "      <th>Hora local</th>\n",
       "      <th>Latitud</th>\n",
       "      <th>Magnitud Ms</th>\n",
       "      <th>Magnitud Mw</th>\n",
       "      <th>Profundidad [km]</th>\n",
       "      <th>Efecto</th>\n",
       "    </tr>\n",
       "  </thead>\n",
       "  <tbody>\n",
       "    <tr>\n",
       "      <th>count</th>\n",
       "      <td>113</td>\n",
       "      <td>113</td>\n",
       "      <td>113</td>\n",
       "      <td>113</td>\n",
       "      <td>113</td>\n",
       "      <td>113</td>\n",
       "      <td>113</td>\n",
       "    </tr>\n",
       "    <tr>\n",
       "      <th>unique</th>\n",
       "      <td>111</td>\n",
       "      <td>100</td>\n",
       "      <td>84</td>\n",
       "      <td>22</td>\n",
       "      <td>11</td>\n",
       "      <td>37</td>\n",
       "      <td>4</td>\n",
       "    </tr>\n",
       "    <tr>\n",
       "      <th>top</th>\n",
       "      <td>22/05/1960</td>\n",
       "      <td>8:00</td>\n",
       "      <td>-18.500</td>\n",
       "      <td>7.3</td>\n",
       "      <td>-</td>\n",
       "      <td>-</td>\n",
       "      <td>-</td>\n",
       "    </tr>\n",
       "    <tr>\n",
       "      <th>freq</th>\n",
       "      <td>2</td>\n",
       "      <td>3</td>\n",
       "      <td>6</td>\n",
       "      <td>22</td>\n",
       "      <td>100</td>\n",
       "      <td>52</td>\n",
       "      <td>79</td>\n",
       "    </tr>\n",
       "  </tbody>\n",
       "</table>\n",
       "</div>"
      ],
      "text/plain": [
       "       Fecha local Hora local  Latitud Magnitud Ms Magnitud Mw   \n",
       "count          113        113      113         113         113  \\\n",
       "unique         111        100       84          22          11   \n",
       "top     22/05/1960       8:00  -18.500         7.3           -   \n",
       "freq             2          3        6          22         100   \n",
       "\n",
       "       Profundidad [km] Efecto  \n",
       "count               113    113  \n",
       "unique               37      4  \n",
       "top                   -      -  \n",
       "freq                 52     79  "
      ]
     },
     "execution_count": 9,
     "metadata": {},
     "output_type": "execute_result"
    }
   ],
   "source": [
    "Chile.informacion_6_datos(6)"
   ]
  },
  {
   "attachments": {},
   "cell_type": "markdown",
   "metadata": {},
   "source": [
    "$$\n",
    "EEUU\n",
    "$$"
   ]
  },
  {
   "attachments": {},
   "cell_type": "markdown",
   "metadata": {},
   "source": [
    "* Analsis de datos extraidos de USGS (El Servicio Geologico de los Estados Unidos )https://earthquake.usgs.gov/fdsnws/event/1/"
   ]
  },
  {
   "cell_type": "code",
   "execution_count": 60,
   "metadata": {},
   "outputs": [],
   "source": [
    "import requests\n",
    "\n",
    "url = 'https://earthquake.usgs.gov/fdsnws/event/1/query?format=csv&endtime=now'\n",
    "response = requests.get(url)\n",
    "dfEEUU = pd.read_csv(io.StringIO(response.text))"
   ]
  },
  {
   "cell_type": "code",
   "execution_count": 61,
   "metadata": {},
   "outputs": [
    {
     "data": {
      "text/html": [
       "<div>\n",
       "<style scoped>\n",
       "    .dataframe tbody tr th:only-of-type {\n",
       "        vertical-align: middle;\n",
       "    }\n",
       "\n",
       "    .dataframe tbody tr th {\n",
       "        vertical-align: top;\n",
       "    }\n",
       "\n",
       "    .dataframe thead th {\n",
       "        text-align: right;\n",
       "    }\n",
       "</style>\n",
       "<table border=\"1\" class=\"dataframe\">\n",
       "  <thead>\n",
       "    <tr style=\"text-align: right;\">\n",
       "      <th></th>\n",
       "      <th>time</th>\n",
       "      <th>latitude</th>\n",
       "      <th>longitude</th>\n",
       "      <th>depth</th>\n",
       "      <th>mag</th>\n",
       "      <th>magType</th>\n",
       "      <th>nst</th>\n",
       "      <th>gap</th>\n",
       "      <th>dmin</th>\n",
       "      <th>rms</th>\n",
       "      <th>...</th>\n",
       "      <th>updated</th>\n",
       "      <th>place</th>\n",
       "      <th>type</th>\n",
       "      <th>horizontalError</th>\n",
       "      <th>depthError</th>\n",
       "      <th>magError</th>\n",
       "      <th>magNst</th>\n",
       "      <th>status</th>\n",
       "      <th>locationSource</th>\n",
       "      <th>magSource</th>\n",
       "    </tr>\n",
       "  </thead>\n",
       "  <tbody>\n",
       "    <tr>\n",
       "      <th>0</th>\n",
       "      <td>2023-05-05T16:02:13.482Z</td>\n",
       "      <td>62.9451</td>\n",
       "      <td>-149.461700</td>\n",
       "      <td>67.000000</td>\n",
       "      <td>1.00</td>\n",
       "      <td>ml</td>\n",
       "      <td>NaN</td>\n",
       "      <td>NaN</td>\n",
       "      <td>NaN</td>\n",
       "      <td>0.75</td>\n",
       "      <td>...</td>\n",
       "      <td>2023-05-05T16:04:05.714Z</td>\n",
       "      <td>56 km SSW of Cantwell, Alaska</td>\n",
       "      <td>earthquake</td>\n",
       "      <td>NaN</td>\n",
       "      <td>0.70</td>\n",
       "      <td>NaN</td>\n",
       "      <td>NaN</td>\n",
       "      <td>automatic</td>\n",
       "      <td>ak</td>\n",
       "      <td>ak</td>\n",
       "    </tr>\n",
       "    <tr>\n",
       "      <th>1</th>\n",
       "      <td>2023-05-05T15:56:00.940Z</td>\n",
       "      <td>19.1665</td>\n",
       "      <td>-155.493668</td>\n",
       "      <td>35.029999</td>\n",
       "      <td>2.47</td>\n",
       "      <td>ml</td>\n",
       "      <td>42.0</td>\n",
       "      <td>112.0</td>\n",
       "      <td>NaN</td>\n",
       "      <td>0.12</td>\n",
       "      <td>...</td>\n",
       "      <td>2023-05-05T16:01:31.330Z</td>\n",
       "      <td>4 km SSW of P?hala, Hawaii</td>\n",
       "      <td>earthquake</td>\n",
       "      <td>0.52</td>\n",
       "      <td>0.72</td>\n",
       "      <td>3.34</td>\n",
       "      <td>7.0</td>\n",
       "      <td>automatic</td>\n",
       "      <td>hv</td>\n",
       "      <td>hv</td>\n",
       "    </tr>\n",
       "  </tbody>\n",
       "</table>\n",
       "<p>2 rows × 22 columns</p>\n",
       "</div>"
      ],
      "text/plain": [
       "                       time  latitude   longitude      depth   mag magType   \n",
       "0  2023-05-05T16:02:13.482Z   62.9451 -149.461700  67.000000  1.00      ml  \\\n",
       "1  2023-05-05T15:56:00.940Z   19.1665 -155.493668  35.029999  2.47      ml   \n",
       "\n",
       "    nst    gap  dmin   rms  ...                   updated   \n",
       "0   NaN    NaN   NaN  0.75  ...  2023-05-05T16:04:05.714Z  \\\n",
       "1  42.0  112.0   NaN  0.12  ...  2023-05-05T16:01:31.330Z   \n",
       "\n",
       "                           place        type horizontalError depthError   \n",
       "0  56 km SSW of Cantwell, Alaska  earthquake             NaN       0.70  \\\n",
       "1     4 km SSW of P?hala, Hawaii  earthquake            0.52       0.72   \n",
       "\n",
       "   magError  magNst     status  locationSource magSource  \n",
       "0       NaN     NaN  automatic              ak        ak  \n",
       "1      3.34     7.0  automatic              hv        hv  \n",
       "\n",
       "[2 rows x 22 columns]"
      ]
     },
     "execution_count": 61,
     "metadata": {},
     "output_type": "execute_result"
    }
   ],
   "source": [
    "dfEEUU.head(2)"
   ]
  },
  {
   "cell_type": "code",
   "execution_count": 13,
   "metadata": {},
   "outputs": [
    {
     "data": {
      "text/plain": [
       "(12212, 22)"
      ]
     },
     "execution_count": 13,
     "metadata": {},
     "output_type": "execute_result"
    }
   ],
   "source": [
    "dfEEUU.shape"
   ]
  },
  {
   "attachments": {},
   "cell_type": "markdown",
   "metadata": {},
   "source": [
    "contamos con 12163 filas y 22 columnas"
   ]
  },
  {
   "cell_type": "code",
   "execution_count": 22,
   "metadata": {},
   "outputs": [
    {
     "data": {
      "text/plain": [
       "array(['ml', 'md', 'mb', 'mwr', 'mww', 'mb_lg', 'mw', 'mlr', 'mlv', 'mh'],\n",
       "      dtype=object)"
      ]
     },
     "execution_count": 22,
     "metadata": {},
     "output_type": "execute_result"
    }
   ],
   "source": [
    "dfEEUU['magType'].unique()"
   ]
  },
  {
   "cell_type": "code",
   "execution_count": 23,
   "metadata": {},
   "outputs": [
    {
     "data": {
      "text/plain": [
       "Index(['time', 'latitude', 'longitude', 'depth', 'mag', 'magType', 'nst',\n",
       "       'gap', 'dmin', 'rms', 'net', 'id', 'updated', 'place', 'type',\n",
       "       'horizontalError', 'depthError', 'magError', 'magNst', 'status',\n",
       "       'locationSource', 'magSource'],\n",
       "      dtype='object')"
      ]
     },
     "execution_count": 23,
     "metadata": {},
     "output_type": "execute_result"
    }
   ],
   "source": [
    "dfEEUU.columns"
   ]
  },
  {
   "attachments": {},
   "cell_type": "markdown",
   "metadata": {},
   "source": [
    "Significado de sus columnas:\n",
    "\n",
    "1-\"time\": indica la fecha y hora exacta en que ocurrió el sismo, expresada en formato UTC (Tiempo Universal Coordinado) y en milisegundos desde la medianoche del 1 de enero de 1970.\n",
    "\n",
    "2-\"latitude\": es la coordenada geográfica de la latitud del epicentro del sismo, expresada en grados decimales.\n",
    "\n",
    "3-\"longitude\": es la coordenada geográfica de la longitud del epicentro del sismo, expresada en grados decimales.\n",
    "\n",
    "4-\"depth\": es la profundidad del epicentro del sismo, expresada en kilómetros.\n",
    "\n",
    "5-\"mag\": es la magnitud del sismo, que mide la energía liberada en el evento. La escala más comúnmente utilizada para medir la magnitud es la escala de Richter.\n",
    "\n",
    "6-\"magType\": indica la escala o método utilizado para calcular la magnitud del sismo, como por ejemplo, la escala de Richter, la escala de magnitud de momento o la escala de magnitud de onda superficial. Los sinificados de sus valores son los siguientes:\n",
    "\n",
    "\"md\": se refiere a la magnitud calculada usando la escala de duración, que es una escala de magnitud basada en la duración de la onda sísmica.\n",
    "\n",
    "\"ml\": se refiere a la magnitud calculada usando la escala de Richter, que es una escala de magnitud que se basa en la amplitud de las ondas sísmicas registradas en un sismógrafo.\n",
    "\n",
    "\"mb\": se refiere a la magnitud calculada usando la escala de onda de cuerpo superficial, que se basa en la amplitud de las ondas sísmicas de cuerpo y superficie.\n",
    "\n",
    "\"mww\": se refiere a la magnitud calculada usando la escala de momento sísmico, que es una escala de magnitud basada en la cantidad total de energía liberada durante el sismo.\n",
    "\n",
    "\"mlr\": se refiere a la magnitud calculada usando la escala de Richter revisada, que es una versión actualizada y mejorada de la escala de Richter original.\n",
    "\n",
    "\"mb_lg\": se refiere a la magnitud calculada usando una combinación de las escalas de onda de cuerpo y superficie (mb) y la escala de Richter (lg).\n",
    "\n",
    "\"mw\": se refiere a la magnitud calculada usando la escala de momento sísmico, pero ajustada para tener en cuenta la atenuación de la energía sísmica en el camino desde el epicentro hasta la superficie.\n",
    "\n",
    "\"mwr\": se refiere a la magnitud calculada usando una versión modificada de la escala de momento sísmico que tiene en cuenta la orientación de las fallas geológicas.\n",
    "\n",
    "\"mlv\": se refiere a la magnitud calculada usando la escala de Richter local, que es una versión adaptada de la escala de Richter para sismos locales.\n",
    "\n",
    "\"mh\": se refiere a la magnitud calculada usando la escala de hipocentro, que es una escala de magnitud que tiene en cuenta la profundidad y ubicación del hipocentro del sismo.\n",
    "\n",
    "\n",
    "7-\"nst\": se refiere al número de estaciones sismográficas que registraron el evento.\n",
    "\n",
    "8-\"gap\":el ángulo de brecha indica la cantidad de información que falta para calcular la ubicación exacta y la magnitud del sismo, debido a que la red de estaciones sismográficas no tiene una cobertura completa del área afectada por el evento sísmico.\n",
    "\n",
    "9-\"dimn\": es la dimensión del evento en kilómetros.\n",
    "\n",
    "10-\"rms\": es el error de tiempo de la solución de ubicación del sismo en segundos.\n",
    "\n",
    "11-\"net\": es el código de identificación de la red sísmica que registró el evento. Por ejemplo, la red sísmica de Estados Unidos es la USGS (United States Geological Survey) y su código es \"us\".\n",
    "\n",
    "12-\"id\": es el código de identificación único del sismo, que incluye el código de la red sísmica y un número de identificación único. Este código se utiliza para identificar y hacer referencia a un evento sísmico específico.\n",
    "\n",
    "13-\"updated\": es la fecha y hora en que se actualizó la información sobre el evento sísmico en la base de datos. Esta información puede actualizarse a medida que se recopilan más datos sobre el sismo.\n",
    "\n",
    "14-\"place\": es la ubicación geográfica del sismo, que generalmente se expresa en términos de la ciudad o el estado más cercano al epicentro.\n",
    "\n",
    "15-\"type\": se refiere al tipo de evento sísmico registrado, que puede ser un sismo, una réplica o una explosión.\n",
    "\n",
    "16-\"horizontalError\": es el error horizontal asociado con la ubicación del epicentro del sismo, expresado en kilómetros. Este valor indica la incertidumbre en la ubicación horizontal del epicentro.\n",
    "\n",
    "17-\"depthError\": es el error asociado con la profundidad del epicentro del sismo, expresado en kilómetros. Este valor indica la incertidumbre en la profundidad del epicentro.\n",
    "\n",
    "18-\"magError\": es el error asociado con la magnitud del sismo, expresado en unidades de magnitud (por ejemplo, en unidades de Richter). Este valor indica la incertidumbre en la magnitud del sismo.\n",
    "\n",
    "19-\"magNst\": es el número de estaciones sísmicas que se utilizaron para calcular la magnitud del sismo.\n",
    "\n",
    "20-\"status\": indica si la información sobre el sismo es \"automática\" o \"revisada\", es decir, si ha sido revisada por un sismólogo para corregir o ajustar los valores originales de la información sísmica.\n",
    "\n",
    "21-\"locationSource\": es el código de identificación de la fuente de los datos de ubicación del sismo, que puede ser una red sísmica específica o una base de datos geográfica.\n",
    "\n",
    "22-\"magSource\": es el código de identificación de la fuente de los datos de magnitud del sismo, que puede ser una red sísmica específica o una base de datos de magnitud."
   ]
  },
  {
   "cell_type": "code",
   "execution_count": 24,
   "metadata": {},
   "outputs": [
    {
     "name": "stdout",
     "output_type": "stream",
     "text": [
      "<class 'pandas.core.frame.DataFrame'>\n",
      "RangeIndex: 12212 entries, 0 to 12211\n",
      "Data columns (total 22 columns):\n",
      " #   Column           Non-Null Count  Dtype  \n",
      "---  ------           --------------  -----  \n",
      " 0   time             12212 non-null  object \n",
      " 1   latitude         12212 non-null  float64\n",
      " 2   longitude        12212 non-null  float64\n",
      " 3   depth            12212 non-null  float64\n",
      " 4   mag              12212 non-null  float64\n",
      " 5   magType          12212 non-null  object \n",
      " 6   nst              8769 non-null   float64\n",
      " 7   gap              8769 non-null   float64\n",
      " 8   dmin             6535 non-null   float64\n",
      " 9   rms              12212 non-null  float64\n",
      " 10  net              12212 non-null  object \n",
      " 11  id               12212 non-null  object \n",
      " 12  updated          12212 non-null  object \n",
      " 13  place            11879 non-null  object \n",
      " 14  type             12212 non-null  object \n",
      " 15  horizontalError  8050 non-null   float64\n",
      " 16  depthError       12212 non-null  float64\n",
      " 17  magError         8742 non-null   float64\n",
      " 18  magNst           8764 non-null   float64\n",
      " 19  status           12212 non-null  object \n",
      " 20  locationSource   12212 non-null  object \n",
      " 21  magSource        12212 non-null  object \n",
      "dtypes: float64(12), object(10)\n",
      "memory usage: 2.0+ MB\n"
     ]
    }
   ],
   "source": [
    "dfEEUU.info()"
   ]
  },
  {
   "attachments": {},
   "cell_type": "markdown",
   "metadata": {},
   "source": [
    "Las columnas que tienen faltantes significativos son:\n",
    " dmin, o sea la de dimnensión en km, gap: información que falta para calcular ubicación exacta, nst:estaciones que registraron el sismo,horizontalError: incertidumbre en localización del hepicentro,magerror: incertidumbre en magnitud del sismo,magNst: número de estaciones que se registraron el sismo."
   ]
  },
  {
   "cell_type": "code",
   "execution_count": 25,
   "metadata": {},
   "outputs": [
    {
     "data": {
      "text/html": [
       "<div>\n",
       "<style scoped>\n",
       "    .dataframe tbody tr th:only-of-type {\n",
       "        vertical-align: middle;\n",
       "    }\n",
       "\n",
       "    .dataframe tbody tr th {\n",
       "        vertical-align: top;\n",
       "    }\n",
       "\n",
       "    .dataframe thead th {\n",
       "        text-align: right;\n",
       "    }\n",
       "</style>\n",
       "<table border=\"1\" class=\"dataframe\">\n",
       "  <thead>\n",
       "    <tr style=\"text-align: right;\">\n",
       "      <th></th>\n",
       "      <th>time</th>\n",
       "      <th>magType</th>\n",
       "      <th>net</th>\n",
       "      <th>id</th>\n",
       "      <th>updated</th>\n",
       "      <th>place</th>\n",
       "      <th>type</th>\n",
       "      <th>status</th>\n",
       "      <th>locationSource</th>\n",
       "      <th>magSource</th>\n",
       "    </tr>\n",
       "  </thead>\n",
       "  <tbody>\n",
       "    <tr>\n",
       "      <th>count</th>\n",
       "      <td>12212</td>\n",
       "      <td>12212</td>\n",
       "      <td>12212</td>\n",
       "      <td>12212</td>\n",
       "      <td>12212</td>\n",
       "      <td>11879</td>\n",
       "      <td>12212</td>\n",
       "      <td>12212</td>\n",
       "      <td>12212</td>\n",
       "      <td>12212</td>\n",
       "    </tr>\n",
       "    <tr>\n",
       "      <th>unique</th>\n",
       "      <td>12211</td>\n",
       "      <td>10</td>\n",
       "      <td>15</td>\n",
       "      <td>12212</td>\n",
       "      <td>12212</td>\n",
       "      <td>5988</td>\n",
       "      <td>6</td>\n",
       "      <td>2</td>\n",
       "      <td>15</td>\n",
       "      <td>16</td>\n",
       "    </tr>\n",
       "    <tr>\n",
       "      <th>top</th>\n",
       "      <td>2023-04-20T04:01:05.350Z</td>\n",
       "      <td>ml</td>\n",
       "      <td>ak</td>\n",
       "      <td>ci40219199</td>\n",
       "      <td>2023-05-04T21:48:22.450Z</td>\n",
       "      <td>7km NW of The Geysers, CA</td>\n",
       "      <td>earthquake</td>\n",
       "      <td>reviewed</td>\n",
       "      <td>ak</td>\n",
       "      <td>ak</td>\n",
       "    </tr>\n",
       "    <tr>\n",
       "      <th>freq</th>\n",
       "      <td>2</td>\n",
       "      <td>8144</td>\n",
       "      <td>3443</td>\n",
       "      <td>1</td>\n",
       "      <td>1</td>\n",
       "      <td>159</td>\n",
       "      <td>11955</td>\n",
       "      <td>10608</td>\n",
       "      <td>3443</td>\n",
       "      <td>3444</td>\n",
       "    </tr>\n",
       "  </tbody>\n",
       "</table>\n",
       "</div>"
      ],
      "text/plain": [
       "                            time magType    net          id   \n",
       "count                      12212   12212  12212       12212  \\\n",
       "unique                     12211      10     15       12212   \n",
       "top     2023-04-20T04:01:05.350Z      ml     ak  ci40219199   \n",
       "freq                           2    8144   3443           1   \n",
       "\n",
       "                         updated                      place        type   \n",
       "count                      12212                      11879       12212  \\\n",
       "unique                     12212                       5988           6   \n",
       "top     2023-05-04T21:48:22.450Z  7km NW of The Geysers, CA  earthquake   \n",
       "freq                           1                        159       11955   \n",
       "\n",
       "          status locationSource magSource  \n",
       "count      12212          12212     12212  \n",
       "unique         2             15        16  \n",
       "top     reviewed             ak        ak  \n",
       "freq       10608           3443      3444  "
      ]
     },
     "execution_count": 25,
     "metadata": {},
     "output_type": "execute_result"
    }
   ],
   "source": [
    "dfEEUU.describe(exclude='number')"
   ]
  },
  {
   "attachments": {},
   "cell_type": "markdown",
   "metadata": {},
   "source": [
    "el ultimo gran sismo 20 de abril 2023, medido en escala de richter, se registro en alaska a 7 kilómetros al noroeste de The Geysers, California.El evento ha sido revisado y confirmado por un sismólogo o un experto en la materia.\"ak\" es la agencia responsable de la detección y registro del evento."
   ]
  },
  {
   "cell_type": "code",
   "execution_count": 34,
   "metadata": {},
   "outputs": [],
   "source": [
    "#aca convierto columna time a datetime para posterior utilizacion\n",
    "\n",
    "dfEEUU['time'] = pd.to_datetime(dfEEUU['time'])\n"
   ]
  },
  {
   "cell_type": "code",
   "execution_count": null,
   "metadata": {},
   "outputs": [],
   "source": [
    "['time', 'latitude', 'longitude', 'depth', 'mag', 'nst', 'gap', \n",
    "                        'dmin', 'rms', 'horizontalError', 'depthError', 'magError', 'magNst']"
   ]
  },
  {
   "cell_type": "code",
   "execution_count": 47,
   "metadata": {},
   "outputs": [],
   "source": [
    "class Analisis_Grafico:\n",
    "        def __init__(self,df):\n",
    "\n",
    "                self.df = df\n",
    "        def matriz_correlacion(self,pais,variables):\n",
    "                #grafico para ver la relación entre las variable\n",
    "                # Seleccionar las columnas a incluir en la matriz de correlación\n",
    "                cols = variables\n",
    "\n",
    "                # Crear la matriz de correlación\n",
    "                corr = self.df[cols].corr()\n",
    "\n",
    "                # Crear el gráfico de correlación utilizando la biblioteca Seaborn\n",
    "                sns.set(style=\"white\")\n",
    "                mask = np.triu(np.ones_like(corr, dtype=np.bool_))\n",
    "                fig, ax = plt.subplots(figsize=(10, 8))\n",
    "                cmap = sns.diverging_palette(220, 10, as_cmap=True)\n",
    "                sns.heatmap(corr, mask=mask, cmap=cmap, vmax=.3, center=0,\n",
    "                        square=True, linewidths=.5, cbar_kws={\"shrink\": .5})\n",
    "                plt.title('Matriz de correlación de los datos de sismos en '+pais)\n",
    "                return plt.show()\n"
   ]
  },
  {
   "cell_type": "code",
   "execution_count": 48,
   "metadata": {},
   "outputs": [],
   "source": [
    "EEUU = Analisis_Grafico(dfEEUU)"
   ]
  },
  {
   "cell_type": "code",
   "execution_count": 49,
   "metadata": {},
   "outputs": [
    {
     "data": {
      "image/png": "[encoded data removed]",
      "text/plain": [
       "<Figure size 1000x800 with 2 Axes>"
      ]
     },
     "metadata": {},
     "output_type": "display_data"
    }
   ],
   "source": [
    "EEUU.matriz_correlacion('Estados Unidos',['time', 'latitude', 'longitude', 'depth', 'mag', 'nst', 'gap', \n",
    "                        'dmin', 'rms', 'horizontalError', 'depthError', 'magError', 'magNst'])"
   ]
  },
  {
   "cell_type": "code",
   "execution_count": 30,
   "metadata": {},
   "outputs": [
    {
     "data": {
      "image/png": "[encoded data removed]",
      "text/plain": [
       "<Figure size 640x480 with 1 Axes>"
      ]
     },
     "metadata": {},
     "output_type": "display_data"
    },
    {
     "data": {
      "image/png": "[encoded data removed]",
      "text/plain": [
       "<Figure size 640x480 with 1 Axes>"
      ]
     },
     "metadata": {},
     "output_type": "display_data"
    },
    {
     "data": {
      "image/png": "[encoded data removed]",
      "text/plain": [
       "<Figure size 640x480 with 1 Axes>"
      ]
     },
     "metadata": {},
     "output_type": "display_data"
    },
    {
     "data": {
      "image/png": "[encoded data removed]",
      "text/plain": [
       "<Figure size 640x480 with 1 Axes>"
      ]
     },
     "metadata": {},
     "output_type": "display_data"
    },
    {
     "data": {
      "image/png": "[encoded data removed]",
      "text/plain": [
       "<Figure size 640x480 with 1 Axes>"
      ]
     },
     "metadata": {},
     "output_type": "display_data"
    },
    {
     "data": {
      "image/png": "[encoded data removed]",
      "text/plain": [
       "<Figure size 640x480 with 1 Axes>"
      ]
     },
     "metadata": {},
     "output_type": "display_data"
    },
    {
     "data": {
      "image/png": "[encoded data removed]",
      "text/plain": [
       "<Figure size 640x480 with 1 Axes>"
      ]
     },
     "metadata": {},
     "output_type": "display_data"
    },
    {
     "data": {
      "image/png": "[encoded data removed]",
      "text/plain": [
       "<Figure size 640x480 with 1 Axes>"
      ]
     },
     "metadata": {},
     "output_type": "display_data"
    },
    {
     "data": {
      "image/png": "[encoded data removed]",
      "text/plain": [
       "<Figure size 640x480 with 1 Axes>"
      ]
     },
     "metadata": {},
     "output_type": "display_data"
    },
    {
     "data": {
      "image/png": "[encoded data removed]",
      "text/plain": [
       "<Figure size 640x480 with 1 Axes>"
      ]
     },
     "metadata": {},
     "output_type": "display_data"
    },
    {
     "data": {
      "image/png": "[encoded data removed]",
      "text/plain": [
       "<Figure size 640x480 with 1 Axes>"
      ]
     },
     "metadata": {},
     "output_type": "display_data"
    },
    {
     "data": {
      "image/png": "[encoded data removed]",
      "text/plain": [
       "<Figure size 640x480 with 1 Axes>"
      ]
     },
     "metadata": {},
     "output_type": "display_data"
    }
   ],
   "source": [
    "#aca se genera un diagrama de caja para ver los outlier\n",
    "\n",
    "\n",
    "# Seleccionar las columnas a incluir en el diagrama de caja\n",
    "cols = ['latitude', 'longitude', 'depth', 'mag', 'nst', 'gap', \n",
    "        'dmin', 'rms', 'horizontalError', 'depthError', 'magError', 'magNst']\n",
    "\n",
    "# Crear un diagrama de caja para cada columna utilizando la biblioteca Seaborn\n",
    "for col in cols:\n",
    "    plt.figure()\n",
    "    sns.boxplot(x=dfEEUU[col])\n",
    "    plt.title('Diagrama de caja para ' + col)\n",
    "    plt.show()\n"
   ]
  },
  {
   "attachments": {},
   "cell_type": "markdown",
   "metadata": {},
   "source": []
  }
 ],
 "metadata": {
  "kernelspec": {
   "display_name": "Python 3",
   "language": "python",
   "name": "python3"
  },
  "language_info": {
   "codemirror_mode": {
    "name": "ipython",
    "version": 3
   },
   "file_extension": ".py",
   "mimetype": "text/x-python",
   "name": "python",
   "nbconvert_exporter": "python",
   "pygments_lexer": "ipython3",
   "version": "3.10.11"
  },
  "orig_nbformat": 4
 },
 "nbformat": 4,
 "nbformat_minor": 2
}
